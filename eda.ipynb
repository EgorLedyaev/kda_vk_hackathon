{
 "cells": [
  {
   "cell_type": "code",
   "execution_count": 136,
   "id": "c77b0adb",
   "metadata": {},
   "outputs": [],
   "source": [
    "import pandas as pd\n",
    "from tqdm import tqdm\n",
    "import matplotlib.pyplot as plt\n",
    "import numpy as np"
   ]
  },
  {
   "cell_type": "code",
   "execution_count": 2,
   "id": "6e5c3976",
   "metadata": {},
   "outputs": [],
   "source": [
    "def read_csv_pgbar(csv_path, index_col=None, chunksize=1024, read_first=None):\n",
    "    rows = sum(1 for _ in open(csv_path, 'r')) - 1\n",
    "    chunk_list = []\n",
    "    with tqdm(total=rows, desc=f'Reading {csv_path}') as pbar:\n",
    "        i = 0\n",
    "        for chunk in pd.read_csv(csv_path, index_col=index_col, chunksize=chunksize, sep='\\t'):\n",
    "            chunk_list.append(chunk)\n",
    "            pbar.update(len(chunk))\n",
    "            i += 1\n",
    "            if i+1 == read_first:\n",
    "                break\n",
    "    df = pd.concat((f for f in chunk_list), axis=0)\n",
    "    return df"
   ]
  },
  {
   "cell_type": "markdown",
   "id": "3f56b739",
   "metadata": {},
   "source": [
    "### Загрузка данных"
   ]
  },
  {
   "cell_type": "code",
   "execution_count": 3,
   "id": "daad9070",
   "metadata": {},
   "outputs": [
    {
     "name": "stderr",
     "output_type": "stream",
     "text": [
      "Reading FINAL_ALL_SEQUENCES_TRAINTEST.tsv:   3%|▎         | 4096/123707 [00:00<00:06, 18715.43it/s]\n"
     ]
    }
   ],
   "source": [
    "all_seq_traintest = read_csv_pgbar('FINAL_ALL_SEQUENCES_TRAINTEST.tsv', index_col=0, read_first=5)"
   ]
  },
  {
   "cell_type": "code",
   "execution_count": 4,
   "id": "13bbaeb3",
   "metadata": {},
   "outputs": [
    {
     "name": "stderr",
     "output_type": "stream",
     "text": [
      "Reading FINAL_FEATURES_FRIENDS.tsv:   0%|          | 4096/9974289 [00:00<14:47, 11232.56it/s]\n"
     ]
    }
   ],
   "source": [
    "feat_friends = read_csv_pgbar('FINAL_FEATURES_FRIENDS.tsv', index_col=0, read_first=5)"
   ]
  },
  {
   "cell_type": "code",
   "execution_count": 5,
   "id": "3d4e1d1f",
   "metadata": {},
   "outputs": [
    {
     "name": "stderr",
     "output_type": "stream",
     "text": [
      "Reading FINAL_FEATURES_TRAINTEST.tsv: 100%|██████████| 159288/159288 [00:13<00:00, 11703.49it/s]\n"
     ]
    }
   ],
   "source": [
    "feat_traintest = read_csv_pgbar('FINAL_FEATURES_TRAINTEST.tsv', index_col=0)"
   ]
  },
  {
   "cell_type": "code",
   "execution_count": 6,
   "id": "7370af77",
   "metadata": {},
   "outputs": [
    {
     "name": "stderr",
     "output_type": "stream",
     "text": [
      "Reading FINAL_SEQUENCES_MATRIX.tsv:   0%|          | 4096/1489576 [00:00<00:15, 93970.98it/s]\n"
     ]
    }
   ],
   "source": [
    "seq_matrix = read_csv_pgbar('FINAL_SEQUENCES_MATRIX.tsv', read_first=5)"
   ]
  },
  {
   "cell_type": "code",
   "execution_count": 97,
   "id": "76469326",
   "metadata": {},
   "outputs": [
    {
     "name": "stderr",
     "output_type": "stream",
     "text": [
      "Reading FINAL_TARGETS_DATES_TRAINTEST.tsv: 100%|██████████| 159290/159290 [00:00<00:00, 375858.73it/s]\n"
     ]
    }
   ],
   "source": [
    "targets_traintest = read_csv_pgbar('FINAL_TARGETS_DATES_TRAINTEST.tsv', index_col=0)"
   ]
  },
  {
   "cell_type": "code",
   "execution_count": 55,
   "id": "06658a98",
   "metadata": {},
   "outputs": [
    {
     "data": {
      "text/html": [
       "<div>\n",
       "<style scoped>\n",
       "    .dataframe tbody tr th:only-of-type {\n",
       "        vertical-align: middle;\n",
       "    }\n",
       "\n",
       "    .dataframe tbody tr th {\n",
       "        vertical-align: top;\n",
       "    }\n",
       "\n",
       "    .dataframe thead th {\n",
       "        text-align: right;\n",
       "    }\n",
       "</style>\n",
       "<table border=\"1\" class=\"dataframe\">\n",
       "  <thead>\n",
       "    <tr style=\"text-align: right;\">\n",
       "      <th></th>\n",
       "      <th>SEQUENCE</th>\n",
       "    </tr>\n",
       "    <tr>\n",
       "      <th>CLIENT_ID</th>\n",
       "      <th></th>\n",
       "    </tr>\n",
       "  </thead>\n",
       "  <tbody>\n",
       "    <tr>\n",
       "      <th>1000100</th>\n",
       "      <td>['e84b0f471b8e8f4aecc81eb27b16c092', '9a7670be...</td>\n",
       "    </tr>\n",
       "    <tr>\n",
       "      <th>1000121</th>\n",
       "      <td>['9804a8d70c5e8c26830bdafe2c2db49c', '9ca02fb0...</td>\n",
       "    </tr>\n",
       "    <tr>\n",
       "      <th>1000131</th>\n",
       "      <td>['b496d19eb25556bd64e481d11b6f7dd6', 'eb727f97...</td>\n",
       "    </tr>\n",
       "    <tr>\n",
       "      <th>1000132</th>\n",
       "      <td>['467a38fe36ef666e264823387f66f3c8', 'e0494409...</td>\n",
       "    </tr>\n",
       "    <tr>\n",
       "      <th>100013</th>\n",
       "      <td>['b496d19eb25556bd64e481d11b6f7dd6', 'fc18cab3...</td>\n",
       "    </tr>\n",
       "  </tbody>\n",
       "</table>\n",
       "</div>"
      ],
      "text/plain": [
       "                                                    SEQUENCE\n",
       "CLIENT_ID                                                   \n",
       "1000100    ['e84b0f471b8e8f4aecc81eb27b16c092', '9a7670be...\n",
       "1000121    ['9804a8d70c5e8c26830bdafe2c2db49c', '9ca02fb0...\n",
       "1000131    ['b496d19eb25556bd64e481d11b6f7dd6', 'eb727f97...\n",
       "1000132    ['467a38fe36ef666e264823387f66f3c8', 'e0494409...\n",
       "100013     ['b496d19eb25556bd64e481d11b6f7dd6', 'fc18cab3..."
      ]
     },
     "execution_count": 55,
     "metadata": {},
     "output_type": "execute_result"
    }
   ],
   "source": [
    "all_seq_traintest.head()"
   ]
  },
  {
   "cell_type": "markdown",
   "id": "9d59ba8b",
   "metadata": {},
   "source": [
    "Клиент и последовательно переходов по состояниям"
   ]
  },
  {
   "cell_type": "code",
   "execution_count": 57,
   "id": "4d49e31d",
   "metadata": {},
   "outputs": [
    {
     "data": {
      "text/html": [
       "<div>\n",
       "<style scoped>\n",
       "    .dataframe tbody tr th:only-of-type {\n",
       "        vertical-align: middle;\n",
       "    }\n",
       "\n",
       "    .dataframe tbody tr th {\n",
       "        vertical-align: top;\n",
       "    }\n",
       "\n",
       "    .dataframe thead th {\n",
       "        text-align: right;\n",
       "    }\n",
       "</style>\n",
       "<table border=\"1\" class=\"dataframe\">\n",
       "  <thead>\n",
       "    <tr style=\"text-align: right;\">\n",
       "      <th></th>\n",
       "      <th>i1047</th>\n",
       "      <th>i1048</th>\n",
       "      <th>i1056</th>\n",
       "      <th>i1058</th>\n",
       "      <th>i1059</th>\n",
       "      <th>i1060</th>\n",
       "      <th>i1065</th>\n",
       "      <th>i1066</th>\n",
       "      <th>i1067</th>\n",
       "      <th>i1068</th>\n",
       "      <th>...</th>\n",
       "      <th>u8=18</th>\n",
       "      <th>u8=19</th>\n",
       "      <th>u8=2</th>\n",
       "      <th>u8=20</th>\n",
       "      <th>u8=21</th>\n",
       "      <th>u8=6</th>\n",
       "      <th>u8=7</th>\n",
       "      <th>u8=8</th>\n",
       "      <th>u8=9</th>\n",
       "      <th>FRIEND_ID</th>\n",
       "    </tr>\n",
       "    <tr>\n",
       "      <th>CLIENT_ID</th>\n",
       "      <th></th>\n",
       "      <th></th>\n",
       "      <th></th>\n",
       "      <th></th>\n",
       "      <th></th>\n",
       "      <th></th>\n",
       "      <th></th>\n",
       "      <th></th>\n",
       "      <th></th>\n",
       "      <th></th>\n",
       "      <th></th>\n",
       "      <th></th>\n",
       "      <th></th>\n",
       "      <th></th>\n",
       "      <th></th>\n",
       "      <th></th>\n",
       "      <th></th>\n",
       "      <th></th>\n",
       "      <th></th>\n",
       "      <th></th>\n",
       "      <th></th>\n",
       "    </tr>\n",
       "  </thead>\n",
       "  <tbody>\n",
       "    <tr>\n",
       "      <th>999819</th>\n",
       "      <td>0.0</td>\n",
       "      <td>0.0</td>\n",
       "      <td>8.0</td>\n",
       "      <td>1.0</td>\n",
       "      <td>3.0</td>\n",
       "      <td>1.0</td>\n",
       "      <td>0.0</td>\n",
       "      <td>0.0</td>\n",
       "      <td>0.0</td>\n",
       "      <td>0.0</td>\n",
       "      <td>...</td>\n",
       "      <td>0.0</td>\n",
       "      <td>0.0</td>\n",
       "      <td>0.0</td>\n",
       "      <td>0.0</td>\n",
       "      <td>0.0</td>\n",
       "      <td>0.0</td>\n",
       "      <td>0.0</td>\n",
       "      <td>0.0</td>\n",
       "      <td>0.0</td>\n",
       "      <td>99981973</td>\n",
       "    </tr>\n",
       "    <tr>\n",
       "      <th>999819</th>\n",
       "      <td>0.0</td>\n",
       "      <td>45.0</td>\n",
       "      <td>41.0</td>\n",
       "      <td>0.0</td>\n",
       "      <td>18.0</td>\n",
       "      <td>2.0</td>\n",
       "      <td>17.0</td>\n",
       "      <td>0.0</td>\n",
       "      <td>6.0</td>\n",
       "      <td>6.0</td>\n",
       "      <td>...</td>\n",
       "      <td>0.0</td>\n",
       "      <td>29.0</td>\n",
       "      <td>0.0</td>\n",
       "      <td>0.0</td>\n",
       "      <td>133.0</td>\n",
       "      <td>0.0</td>\n",
       "      <td>0.0</td>\n",
       "      <td>0.0</td>\n",
       "      <td>0.0</td>\n",
       "      <td>99981949</td>\n",
       "    </tr>\n",
       "    <tr>\n",
       "      <th>999819</th>\n",
       "      <td>0.0</td>\n",
       "      <td>0.0</td>\n",
       "      <td>0.0</td>\n",
       "      <td>0.0</td>\n",
       "      <td>0.0</td>\n",
       "      <td>0.0</td>\n",
       "      <td>0.0</td>\n",
       "      <td>0.0</td>\n",
       "      <td>0.0</td>\n",
       "      <td>0.0</td>\n",
       "      <td>...</td>\n",
       "      <td>0.0</td>\n",
       "      <td>0.0</td>\n",
       "      <td>0.0</td>\n",
       "      <td>0.0</td>\n",
       "      <td>0.0</td>\n",
       "      <td>0.0</td>\n",
       "      <td>0.0</td>\n",
       "      <td>0.0</td>\n",
       "      <td>0.0</td>\n",
       "      <td>99981979</td>\n",
       "    </tr>\n",
       "    <tr>\n",
       "      <th>999819</th>\n",
       "      <td>0.0</td>\n",
       "      <td>0.0</td>\n",
       "      <td>2.0</td>\n",
       "      <td>0.0</td>\n",
       "      <td>0.0</td>\n",
       "      <td>0.0</td>\n",
       "      <td>0.0</td>\n",
       "      <td>0.0</td>\n",
       "      <td>2.0</td>\n",
       "      <td>2.0</td>\n",
       "      <td>...</td>\n",
       "      <td>0.0</td>\n",
       "      <td>0.0</td>\n",
       "      <td>0.0</td>\n",
       "      <td>0.0</td>\n",
       "      <td>0.0</td>\n",
       "      <td>0.0</td>\n",
       "      <td>0.0</td>\n",
       "      <td>0.0</td>\n",
       "      <td>0.0</td>\n",
       "      <td>99981939</td>\n",
       "    </tr>\n",
       "    <tr>\n",
       "      <th>999819</th>\n",
       "      <td>0.0</td>\n",
       "      <td>0.0</td>\n",
       "      <td>0.0</td>\n",
       "      <td>0.0</td>\n",
       "      <td>0.0</td>\n",
       "      <td>0.0</td>\n",
       "      <td>0.0</td>\n",
       "      <td>0.0</td>\n",
       "      <td>0.0</td>\n",
       "      <td>0.0</td>\n",
       "      <td>...</td>\n",
       "      <td>0.0</td>\n",
       "      <td>0.0</td>\n",
       "      <td>0.0</td>\n",
       "      <td>0.0</td>\n",
       "      <td>0.0</td>\n",
       "      <td>0.0</td>\n",
       "      <td>0.0</td>\n",
       "      <td>0.0</td>\n",
       "      <td>0.0</td>\n",
       "      <td>99981975</td>\n",
       "    </tr>\n",
       "  </tbody>\n",
       "</table>\n",
       "<p>5 rows × 1015 columns</p>\n",
       "</div>"
      ],
      "text/plain": [
       "           i1047  i1048  i1056  i1058  i1059  i1060  i1065  i1066  i1067  \\\n",
       "CLIENT_ID                                                                  \n",
       "999819       0.0    0.0    8.0    1.0    3.0    1.0    0.0    0.0    0.0   \n",
       "999819       0.0   45.0   41.0    0.0   18.0    2.0   17.0    0.0    6.0   \n",
       "999819       0.0    0.0    0.0    0.0    0.0    0.0    0.0    0.0    0.0   \n",
       "999819       0.0    0.0    2.0    0.0    0.0    0.0    0.0    0.0    2.0   \n",
       "999819       0.0    0.0    0.0    0.0    0.0    0.0    0.0    0.0    0.0   \n",
       "\n",
       "           i1068  ...  u8=18  u8=19  u8=2  u8=20  u8=21  u8=6  u8=7  u8=8  \\\n",
       "CLIENT_ID         ...                                                       \n",
       "999819       0.0  ...    0.0    0.0   0.0    0.0    0.0   0.0   0.0   0.0   \n",
       "999819       6.0  ...    0.0   29.0   0.0    0.0  133.0   0.0   0.0   0.0   \n",
       "999819       0.0  ...    0.0    0.0   0.0    0.0    0.0   0.0   0.0   0.0   \n",
       "999819       2.0  ...    0.0    0.0   0.0    0.0    0.0   0.0   0.0   0.0   \n",
       "999819       0.0  ...    0.0    0.0   0.0    0.0    0.0   0.0   0.0   0.0   \n",
       "\n",
       "           u8=9  FRIEND_ID  \n",
       "CLIENT_ID                   \n",
       "999819      0.0   99981973  \n",
       "999819      0.0   99981949  \n",
       "999819      0.0   99981979  \n",
       "999819      0.0   99981939  \n",
       "999819      0.0   99981975  \n",
       "\n",
       "[5 rows x 1015 columns]"
      ]
     },
     "execution_count": 57,
     "metadata": {},
     "output_type": "execute_result"
    }
   ],
   "source": [
    "feat_friends.head()"
   ]
  },
  {
   "cell_type": "markdown",
   "id": "1077e142",
   "metadata": {},
   "source": [
    "Ребра плюс фичи вершин"
   ]
  },
  {
   "cell_type": "code",
   "execution_count": 8,
   "id": "453aa43c",
   "metadata": {},
   "outputs": [
    {
     "data": {
      "text/html": [
       "<div>\n",
       "<style scoped>\n",
       "    .dataframe tbody tr th:only-of-type {\n",
       "        vertical-align: middle;\n",
       "    }\n",
       "\n",
       "    .dataframe tbody tr th {\n",
       "        vertical-align: top;\n",
       "    }\n",
       "\n",
       "    .dataframe thead th {\n",
       "        text-align: right;\n",
       "    }\n",
       "</style>\n",
       "<table border=\"1\" class=\"dataframe\">\n",
       "  <thead>\n",
       "    <tr style=\"text-align: right;\">\n",
       "      <th></th>\n",
       "      <th>i1047</th>\n",
       "      <th>i1048</th>\n",
       "      <th>i1056</th>\n",
       "      <th>i1058</th>\n",
       "      <th>i1059</th>\n",
       "      <th>i1060</th>\n",
       "      <th>i1065</th>\n",
       "      <th>i1066</th>\n",
       "      <th>i1067</th>\n",
       "      <th>i1068</th>\n",
       "      <th>...</th>\n",
       "      <th>u8=17</th>\n",
       "      <th>u8=18</th>\n",
       "      <th>u8=19</th>\n",
       "      <th>u8=2</th>\n",
       "      <th>u8=20</th>\n",
       "      <th>u8=21</th>\n",
       "      <th>u8=6</th>\n",
       "      <th>u8=7</th>\n",
       "      <th>u8=8</th>\n",
       "      <th>u8=9</th>\n",
       "    </tr>\n",
       "    <tr>\n",
       "      <th>CLIENT_ID</th>\n",
       "      <th></th>\n",
       "      <th></th>\n",
       "      <th></th>\n",
       "      <th></th>\n",
       "      <th></th>\n",
       "      <th></th>\n",
       "      <th></th>\n",
       "      <th></th>\n",
       "      <th></th>\n",
       "      <th></th>\n",
       "      <th></th>\n",
       "      <th></th>\n",
       "      <th></th>\n",
       "      <th></th>\n",
       "      <th></th>\n",
       "      <th></th>\n",
       "      <th></th>\n",
       "      <th></th>\n",
       "      <th></th>\n",
       "      <th></th>\n",
       "      <th></th>\n",
       "    </tr>\n",
       "  </thead>\n",
       "  <tbody>\n",
       "    <tr>\n",
       "      <th>7150</th>\n",
       "      <td>0.0</td>\n",
       "      <td>0.0</td>\n",
       "      <td>3.0</td>\n",
       "      <td>0.0</td>\n",
       "      <td>0.0</td>\n",
       "      <td>0.0</td>\n",
       "      <td>0.0</td>\n",
       "      <td>0.0</td>\n",
       "      <td>0.0</td>\n",
       "      <td>0.0</td>\n",
       "      <td>...</td>\n",
       "      <td>0.0</td>\n",
       "      <td>0.0</td>\n",
       "      <td>0.0</td>\n",
       "      <td>0.0</td>\n",
       "      <td>0.0</td>\n",
       "      <td>0.0</td>\n",
       "      <td>0.0</td>\n",
       "      <td>0.0</td>\n",
       "      <td>0.0</td>\n",
       "      <td>0.0</td>\n",
       "    </tr>\n",
       "    <tr>\n",
       "      <th>7154</th>\n",
       "      <td>0.0</td>\n",
       "      <td>16.0</td>\n",
       "      <td>156.0</td>\n",
       "      <td>0.0</td>\n",
       "      <td>0.0</td>\n",
       "      <td>20.0</td>\n",
       "      <td>4.0</td>\n",
       "      <td>0.0</td>\n",
       "      <td>0.0</td>\n",
       "      <td>0.0</td>\n",
       "      <td>...</td>\n",
       "      <td>0.0</td>\n",
       "      <td>0.0</td>\n",
       "      <td>0.0</td>\n",
       "      <td>0.0</td>\n",
       "      <td>0.0</td>\n",
       "      <td>0.0</td>\n",
       "      <td>0.0</td>\n",
       "      <td>0.0</td>\n",
       "      <td>0.0</td>\n",
       "      <td>0.0</td>\n",
       "    </tr>\n",
       "    <tr>\n",
       "      <th>7156</th>\n",
       "      <td>0.0</td>\n",
       "      <td>5.0</td>\n",
       "      <td>13.0</td>\n",
       "      <td>0.0</td>\n",
       "      <td>0.0</td>\n",
       "      <td>0.0</td>\n",
       "      <td>0.0</td>\n",
       "      <td>0.0</td>\n",
       "      <td>0.0</td>\n",
       "      <td>0.0</td>\n",
       "      <td>...</td>\n",
       "      <td>0.0</td>\n",
       "      <td>0.0</td>\n",
       "      <td>0.0</td>\n",
       "      <td>0.0</td>\n",
       "      <td>0.0</td>\n",
       "      <td>0.0</td>\n",
       "      <td>0.0</td>\n",
       "      <td>0.0</td>\n",
       "      <td>0.0</td>\n",
       "      <td>0.0</td>\n",
       "    </tr>\n",
       "    <tr>\n",
       "      <th>26966</th>\n",
       "      <td>0.0</td>\n",
       "      <td>0.0</td>\n",
       "      <td>4.0</td>\n",
       "      <td>0.0</td>\n",
       "      <td>0.0</td>\n",
       "      <td>1.0</td>\n",
       "      <td>0.0</td>\n",
       "      <td>0.0</td>\n",
       "      <td>0.0</td>\n",
       "      <td>0.0</td>\n",
       "      <td>...</td>\n",
       "      <td>0.0</td>\n",
       "      <td>0.0</td>\n",
       "      <td>0.0</td>\n",
       "      <td>0.0</td>\n",
       "      <td>0.0</td>\n",
       "      <td>0.0</td>\n",
       "      <td>0.0</td>\n",
       "      <td>0.0</td>\n",
       "      <td>0.0</td>\n",
       "      <td>0.0</td>\n",
       "    </tr>\n",
       "    <tr>\n",
       "      <th>26993</th>\n",
       "      <td>0.0</td>\n",
       "      <td>27.0</td>\n",
       "      <td>153.0</td>\n",
       "      <td>0.0</td>\n",
       "      <td>0.0</td>\n",
       "      <td>0.0</td>\n",
       "      <td>0.0</td>\n",
       "      <td>0.0</td>\n",
       "      <td>0.0</td>\n",
       "      <td>0.0</td>\n",
       "      <td>...</td>\n",
       "      <td>0.0</td>\n",
       "      <td>0.0</td>\n",
       "      <td>0.0</td>\n",
       "      <td>0.0</td>\n",
       "      <td>0.0</td>\n",
       "      <td>0.0</td>\n",
       "      <td>0.0</td>\n",
       "      <td>0.0</td>\n",
       "      <td>0.0</td>\n",
       "      <td>0.0</td>\n",
       "    </tr>\n",
       "  </tbody>\n",
       "</table>\n",
       "<p>5 rows × 1014 columns</p>\n",
       "</div>"
      ],
      "text/plain": [
       "           i1047  i1048  i1056  i1058  i1059  i1060  i1065  i1066  i1067  \\\n",
       "CLIENT_ID                                                                  \n",
       "7150         0.0    0.0    3.0    0.0    0.0    0.0    0.0    0.0    0.0   \n",
       "7154         0.0   16.0  156.0    0.0    0.0   20.0    4.0    0.0    0.0   \n",
       "7156         0.0    5.0   13.0    0.0    0.0    0.0    0.0    0.0    0.0   \n",
       "26966        0.0    0.0    4.0    0.0    0.0    1.0    0.0    0.0    0.0   \n",
       "26993        0.0   27.0  153.0    0.0    0.0    0.0    0.0    0.0    0.0   \n",
       "\n",
       "           i1068  ...  u8=17  u8=18  u8=19  u8=2  u8=20  u8=21  u8=6  u8=7  \\\n",
       "CLIENT_ID         ...                                                        \n",
       "7150         0.0  ...    0.0    0.0    0.0   0.0    0.0    0.0   0.0   0.0   \n",
       "7154         0.0  ...    0.0    0.0    0.0   0.0    0.0    0.0   0.0   0.0   \n",
       "7156         0.0  ...    0.0    0.0    0.0   0.0    0.0    0.0   0.0   0.0   \n",
       "26966        0.0  ...    0.0    0.0    0.0   0.0    0.0    0.0   0.0   0.0   \n",
       "26993        0.0  ...    0.0    0.0    0.0   0.0    0.0    0.0   0.0   0.0   \n",
       "\n",
       "           u8=8  u8=9  \n",
       "CLIENT_ID              \n",
       "7150        0.0   0.0  \n",
       "7154        0.0   0.0  \n",
       "7156        0.0   0.0  \n",
       "26966       0.0   0.0  \n",
       "26993       0.0   0.0  \n",
       "\n",
       "[5 rows x 1014 columns]"
      ]
     },
     "execution_count": 8,
     "metadata": {},
     "output_type": "execute_result"
    }
   ],
   "source": [
    "feat_traintest.head()"
   ]
  },
  {
   "cell_type": "markdown",
   "id": "1d5422c2",
   "metadata": {},
   "source": [
    "Фичи вершин"
   ]
  },
  {
   "cell_type": "code",
   "execution_count": 12,
   "id": "7cedd8ee",
   "metadata": {},
   "outputs": [
    {
     "data": {
      "text/html": [
       "<div>\n",
       "<style scoped>\n",
       "    .dataframe tbody tr th:only-of-type {\n",
       "        vertical-align: middle;\n",
       "    }\n",
       "\n",
       "    .dataframe tbody tr th {\n",
       "        vertical-align: top;\n",
       "    }\n",
       "\n",
       "    .dataframe thead th {\n",
       "        text-align: right;\n",
       "    }\n",
       "</style>\n",
       "<table border=\"1\" class=\"dataframe\">\n",
       "  <thead>\n",
       "    <tr style=\"text-align: right;\">\n",
       "      <th></th>\n",
       "      <th>SESSIONS_SEQUENCES</th>\n",
       "    </tr>\n",
       "  </thead>\n",
       "  <tbody>\n",
       "    <tr>\n",
       "      <th>0</th>\n",
       "      <td>['68a9902529901882ecd5143460468d4c', '79d75347...</td>\n",
       "    </tr>\n",
       "    <tr>\n",
       "      <th>1</th>\n",
       "      <td>['72b88f72bca2636844bb14b9cd9e29b3']</td>\n",
       "    </tr>\n",
       "    <tr>\n",
       "      <th>2</th>\n",
       "      <td>['b496d19eb25556bd64e481d11b6f7dd6', 'd21918bb...</td>\n",
       "    </tr>\n",
       "    <tr>\n",
       "      <th>3</th>\n",
       "      <td>['dcb3d50673073d3c023db102f21b2d3e', '09a5d816...</td>\n",
       "    </tr>\n",
       "    <tr>\n",
       "      <th>4</th>\n",
       "      <td>['3de59e26ee7e94a6ccd0a2eead2fab9a', '4a51f13a...</td>\n",
       "    </tr>\n",
       "  </tbody>\n",
       "</table>\n",
       "</div>"
      ],
      "text/plain": [
       "                                  SESSIONS_SEQUENCES\n",
       "0  ['68a9902529901882ecd5143460468d4c', '79d75347...\n",
       "1               ['72b88f72bca2636844bb14b9cd9e29b3']\n",
       "2  ['b496d19eb25556bd64e481d11b6f7dd6', 'd21918bb...\n",
       "3  ['dcb3d50673073d3c023db102f21b2d3e', '09a5d816...\n",
       "4  ['3de59e26ee7e94a6ccd0a2eead2fab9a', '4a51f13a..."
      ]
     },
     "execution_count": 12,
     "metadata": {},
     "output_type": "execute_result"
    }
   ],
   "source": [
    "seq_matrix.head()"
   ]
  },
  {
   "cell_type": "code",
   "execution_count": 98,
   "id": "85273f7c",
   "metadata": {},
   "outputs": [
    {
     "data": {
      "text/html": [
       "<div>\n",
       "<style scoped>\n",
       "    .dataframe tbody tr th:only-of-type {\n",
       "        vertical-align: middle;\n",
       "    }\n",
       "\n",
       "    .dataframe tbody tr th {\n",
       "        vertical-align: top;\n",
       "    }\n",
       "\n",
       "    .dataframe thead th {\n",
       "        text-align: right;\n",
       "    }\n",
       "</style>\n",
       "<table border=\"1\" class=\"dataframe\">\n",
       "  <thead>\n",
       "    <tr style=\"text-align: right;\">\n",
       "      <th></th>\n",
       "      <th>RETRO_DT</th>\n",
       "      <th>TARGET</th>\n",
       "    </tr>\n",
       "    <tr>\n",
       "      <th>CLIENT_ID</th>\n",
       "      <th></th>\n",
       "      <th></th>\n",
       "    </tr>\n",
       "  </thead>\n",
       "  <tbody>\n",
       "    <tr>\n",
       "      <th>1011725</th>\n",
       "      <td>20210501</td>\n",
       "      <td>0</td>\n",
       "    </tr>\n",
       "    <tr>\n",
       "      <th>1018784</th>\n",
       "      <td>20210501</td>\n",
       "      <td>1</td>\n",
       "    </tr>\n",
       "    <tr>\n",
       "      <th>1021812</th>\n",
       "      <td>20210501</td>\n",
       "      <td>0</td>\n",
       "    </tr>\n",
       "    <tr>\n",
       "      <th>1024003</th>\n",
       "      <td>20210501</td>\n",
       "      <td>0</td>\n",
       "    </tr>\n",
       "    <tr>\n",
       "      <th>1025140</th>\n",
       "      <td>20210501</td>\n",
       "      <td>test</td>\n",
       "    </tr>\n",
       "  </tbody>\n",
       "</table>\n",
       "</div>"
      ],
      "text/plain": [
       "           RETRO_DT TARGET\n",
       "CLIENT_ID                 \n",
       "1011725    20210501      0\n",
       "1018784    20210501      1\n",
       "1021812    20210501      0\n",
       "1024003    20210501      0\n",
       "1025140    20210501   test"
      ]
     },
     "execution_count": 98,
     "metadata": {},
     "output_type": "execute_result"
    }
   ],
   "source": [
    "targets_traintest.head()"
   ]
  },
  {
   "cell_type": "code",
   "execution_count": 135,
   "id": "d2c1e177",
   "metadata": {},
   "outputs": [
    {
     "data": {
      "image/png": "[encoded data removed]",
      "text/plain": [
       "<Figure size 432x288 with 1 Axes>"
      ]
     },
     "metadata": {
      "needs_background": "light"
     },
     "output_type": "display_data"
    }
   ],
   "source": [
    "plt.plot(pd.to_datetime(targets_traintest.RETRO_DT, format='%Y%m%d').values);"
   ]
  },
  {
   "cell_type": "markdown",
   "id": "a627feb4",
   "metadata": {},
   "source": [
    "### Подготовим индексы для трейна, валидации и теста"
   ]
  },
  {
   "cell_type": "code",
   "execution_count": 137,
   "id": "9204b99b",
   "metadata": {},
   "outputs": [
    {
     "data": {
      "text/plain": [
       "0.2"
      ]
     },
     "execution_count": 137,
     "metadata": {},
     "output_type": "execute_result"
    }
   ],
   "source": [
    "(targets_dates_traintest['TARGET'] == 'test').sum() / targets_dates_traintest.shape[0]"
   ]
  },
  {
   "cell_type": "code",
   "execution_count": 138,
   "id": "6bf9c976",
   "metadata": {},
   "outputs": [],
   "source": [
    "private_idx = targets_traintest[targets_traintest['TARGET'] == 'test'].index.values"
   ]
  },
  {
   "cell_type": "code",
   "execution_count": 208,
   "id": "b3243e5f",
   "metadata": {},
   "outputs": [],
   "source": [
    "_public_idx = targets_traintest[targets_traintest['TARGET'] != 'test'].index.values\n",
    "public_idx = _public_idx[(_public_idx != 86181) & (_public_idx != 84024)]\n"
   ]
  },
  {
   "cell_type": "code",
   "execution_count": 209,
   "id": "06da8b38",
   "metadata": {},
   "outputs": [
    {
     "data": {
      "text/plain": [
       "(31858, 127430)"
      ]
     },
     "execution_count": 209,
     "metadata": {},
     "output_type": "execute_result"
    }
   ],
   "source": [
    "len(private_idx), len(public_idx)"
   ]
  },
  {
   "cell_type": "code",
   "execution_count": 210,
   "id": "41d3f308",
   "metadata": {},
   "outputs": [],
   "source": [
    "np.random.seed(1)\n",
    "mask = np.random.choice(['train', 'val', 'test'], size=len(public_idx), p=[0.6, 0.2, 0.2])"
   ]
  },
  {
   "cell_type": "code",
   "execution_count": 211,
   "id": "a780d3fc",
   "metadata": {},
   "outputs": [
    {
     "data": {
      "text/plain": [
       "(76356, 25541, 25533)"
      ]
     },
     "execution_count": 211,
     "metadata": {},
     "output_type": "execute_result"
    }
   ],
   "source": [
    "train_idx = public_idx[mask == 'train']\n",
    "val_idx = public_idx[mask == 'val']\n",
    "test_idx = public_idx[mask == 'test']\n",
    "len(train_idx), len(val_idx), len(test_idx)"
   ]
  },
  {
   "cell_type": "code",
   "execution_count": 222,
   "id": "ab06ab08",
   "metadata": {},
   "outputs": [],
   "source": [
    "public_targets = targets_traintest.loc[public_idx]\n",
    "public_targets.TARGET = public_targets.TARGET.astype('int')"
   ]
  },
  {
   "cell_type": "markdown",
   "id": "de0a41d4",
   "metadata": {},
   "source": [
    "### EDA"
   ]
  },
  {
   "cell_type": "code",
   "execution_count": 223,
   "id": "62874a94",
   "metadata": {},
   "outputs": [
    {
     "data": {
      "text/plain": [
       "0.27374404107077377"
      ]
     },
     "execution_count": 223,
     "metadata": {},
     "output_type": "execute_result"
    }
   ],
   "source": [
    "public_targets.loc[train_idx, 'TARGET'].sum() / public_targets.loc[train_idx, 'TARGET'].shape[0]"
   ]
  },
  {
   "cell_type": "markdown",
   "id": "6fc3559a",
   "metadata": {},
   "source": [
    "### Бейзлайн -- без графовых данных"
   ]
  },
  {
   "cell_type": "code",
   "execution_count": 224,
   "id": "180dbc34",
   "metadata": {},
   "outputs": [
    {
     "data": {
      "text/plain": [
       "CLIENT_ID\n",
       "1011725    0.27\n",
       "1021812    0.27\n",
       "1024003    0.27\n",
       "1026390    0.73\n",
       "1027507    0.73\n",
       "           ... \n",
       "72459      0.27\n",
       "72460      0.27\n",
       "72630      0.27\n",
       "72633      0.27\n",
       "72634      0.73\n",
       "Name: TARGET, Length: 76356, dtype: float64"
      ]
     },
     "execution_count": 224,
     "metadata": {},
     "output_type": "execute_result"
    }
   ],
   "source": [
    "sample_weight = public_targets.loc[train_idx, 'TARGET']\n",
    "sample_weight[sample_weight == 0] = 0.27\n",
    "sample_weight[sample_weight == 1] = 0.73\n",
    "sample_weight"
   ]
  },
  {
   "cell_type": "code",
   "execution_count": 225,
   "id": "bd9df3d0",
   "metadata": {},
   "outputs": [],
   "source": [
    "from sklearn.decomposition import PCA\n",
    "from sklearn.pipeline import make_pipeline\n",
    "from sklearn.ensemble import GradientBoostingClassifier\n",
    "from sklearn.model_selection import GridSearchCV, RandomizedSearchCV\n",
    "from sklearn.metrics import roc_auc_score"
   ]
  },
  {
   "cell_type": "code",
   "execution_count": null,
   "id": "e5b1eaea",
   "metadata": {},
   "outputs": [
    {
     "name": "stdout",
     "output_type": "stream",
     "text": [
      "      Iter       Train Loss   Remaining Time \n",
      "         1           1.1724            2.23m\n",
      "         2           1.1711            2.12m\n",
      "         3           1.1698            2.10m\n",
      "         4           1.1687            1.98m\n",
      "         5           1.1677            1.91m\n",
      "         6           1.1668            1.83m\n",
      "         7           1.1658            1.76m\n",
      "         8           1.1649            1.69m\n",
      "         9           1.1641            1.64m\n",
      "        10           1.1633            1.57m\n"
     ]
    }
   ],
   "source": [
    "clf = make_pipeline(\n",
    "    PCA(n_components=128),\n",
    "    GradientBoostingClassifier(n_estimators=32, max_depth=4, verbose=1)\n",
    ")\n",
    "clf.fit(\n",
    "    feat_traintest.loc[train_idx], \n",
    "    public_targets.loc[train_idx, 'TARGET'],\n",
    ")"
   ]
  },
  {
   "cell_type": "code",
   "execution_count": 227,
   "id": "cd059c84",
   "metadata": {},
   "outputs": [
    {
     "data": {
      "text/plain": [
       "0.5594793006688465"
      ]
     },
     "execution_count": 227,
     "metadata": {},
     "output_type": "execute_result"
    }
   ],
   "source": [
    "val_target = clf.predict_proba(feat_traintest.loc[val_idx])\n",
    "roc_auc_score(public_targets.loc[val_idx, 'TARGET'], val_target[:, 1])"
   ]
  },
  {
   "cell_type": "code",
   "execution_count": 232,
   "id": "ac19991d",
   "metadata": {},
   "outputs": [
    {
     "data": {
      "text/plain": [
       "0.49995814844739567"
      ]
     },
     "execution_count": 232,
     "metadata": {},
     "output_type": "execute_result"
    }
   ],
   "source": [
    "roc_auc_score(public_targets.loc[val_idx, 'TARGET'], np.random.rand(len(val_idx)))"
   ]
  },
  {
   "cell_type": "code",
   "execution_count": 233,
   "id": "5288f852",
   "metadata": {},
   "outputs": [
    {
     "data": {
      "text/plain": [
       "(array([8.300e+01, 2.206e+03, 7.694e+03, 1.203e+04, 3.430e+03, 7.600e+01,\n",
       "        1.600e+01, 4.000e+00, 0.000e+00, 2.000e+00]),\n",
       " array([0.13682117, 0.17929884, 0.22177651, 0.26425418, 0.30673185,\n",
       "        0.34920953, 0.3916872 , 0.43416487, 0.47664254, 0.51912021,\n",
       "        0.56159788]),\n",
       " <BarContainer object of 10 artists>)"
      ]
     },
     "execution_count": 233,
     "metadata": {},
     "output_type": "execute_result"
    },
    {
     "data": {
      "image/png": "[encoded data removed]",
      "text/plain": [
       "<Figure size 432x288 with 1 Axes>"
      ]
     },
     "metadata": {
      "needs_background": "light"
     },
     "output_type": "display_data"
    }
   ],
   "source": [
    "plt.hist(val_target[:, 1])"
   ]
  },
  {
   "cell_type": "markdown",
   "id": "7684d8d3",
   "metadata": {},
   "source": [
    "### Предсказания"
   ]
  },
  {
   "cell_type": "code",
   "execution_count": 228,
   "id": "d6048942",
   "metadata": {},
   "outputs": [
    {
     "data": {
      "text/plain": [
       "CLIENT_ID\n",
       "1011725    0.27\n",
       "1018784    0.73\n",
       "1021812    0.27\n",
       "1024003    0.27\n",
       "1026390    0.73\n",
       "           ... \n",
       "72630      0.27\n",
       "72633      0.27\n",
       "72634      0.73\n",
       "72641      0.27\n",
       "72643      0.27\n",
       "Name: TARGET, Length: 127430, dtype: float64"
      ]
     },
     "execution_count": 228,
     "metadata": {},
     "output_type": "execute_result"
    }
   ],
   "source": [
    "sample_weight = public_targets.loc[:, 'TARGET'].copy()\n",
    "sample_weight[sample_weight == 0] = 0.27\n",
    "sample_weight[sample_weight == 1] = 0.73\n",
    "sample_weight"
   ]
  },
  {
   "cell_type": "code",
   "execution_count": 229,
   "id": "ebc67a52",
   "metadata": {},
   "outputs": [
    {
     "name": "stdout",
     "output_type": "stream",
     "text": [
      "      Iter       Train Loss   Remaining Time \n",
      "         1           1.3843            3.74m\n",
      "         2           1.3827            3.60m\n",
      "         3           1.3814            3.46m\n",
      "         4           1.3802            3.37m\n",
      "         5           1.3791            3.35m\n",
      "         6           1.3781            3.32m\n",
      "         7           1.3773            3.18m\n",
      "         8           1.3764            3.10m\n",
      "         9           1.3757            2.95m\n",
      "        10           1.3749            2.80m\n",
      "        20           1.3689            1.51m\n",
      "        30           1.3639           14.94s\n"
     ]
    },
    {
     "data": {
      "text/plain": [
       "Pipeline(steps=[('pca', PCA(n_components=128)),\n",
       "                ('gradientboostingclassifier',\n",
       "                 GradientBoostingClassifier(max_depth=4, n_estimators=32,\n",
       "                                            verbose=1))])"
      ]
     },
     "execution_count": 229,
     "metadata": {},
     "output_type": "execute_result"
    }
   ],
   "source": [
    "clf.fit(\n",
    "    feat_traintest.loc[public_idx],\n",
    "    public_targets.loc[public_idx, 'TARGET'],\n",
    "    gradientboostingclassifier__sample_weight=sample_weight,\n",
    ")"
   ]
  },
  {
   "cell_type": "code",
   "execution_count": 242,
   "id": "6195e255",
   "metadata": {},
   "outputs": [],
   "source": [
    "private_idx_order = pd.read_csv('sample_submission.csv')['CLIENT_ID']"
   ]
  },
  {
   "cell_type": "code",
   "execution_count": 244,
   "id": "a5f916b5",
   "metadata": {},
   "outputs": [],
   "source": [
    "private_pred = clf.predict_proba(feat_traintest.loc[private_idx_order])\n",
    "pd.DataFrame(\n",
    "    {\n",
    "        'CLIENT_ID': private_idx_order,\n",
    "        'TARGET':  private_pred[:, 1]\n",
    "    }\n",
    ").to_csv('private_pred23_23_39.csv', index=False)"
   ]
  },
  {
   "cell_type": "markdown",
   "id": "d986e494",
   "metadata": {},
   "source": [
    "### Grid search CV"
   ]
  },
  {
   "cell_type": "code",
   "execution_count": 199,
   "id": "d713aadb",
   "metadata": {
    "scrolled": true
   },
   "outputs": [
    {
     "name": "stdout",
     "output_type": "stream",
     "text": [
      "Fitting 5 folds for each of 27 candidates, totalling 135 fits\n",
      "      Iter       Train Loss   Remaining Time \n",
      "         1           1.3857            6.26s\n",
      "         2           1.3853            5.86s\n",
      "         3           1.3849            5.35s\n",
      "         4           1.3845            4.89s\n",
      "         5           1.3842            4.55s\n",
      "         6           1.3838            4.22s\n",
      "         7           1.3835            3.85s\n",
      "         8           1.3833            3.43s\n",
      "         9           1.3830            3.01s\n",
      "        10           1.3828            2.60s\n",
      "      Iter       Train Loss   Remaining Time \n",
      "         1           1.3856            6.86s\n",
      "         2           1.3851            6.45s\n",
      "         3           1.3847            5.81s\n",
      "         4           1.3843            5.43s\n",
      "         5           1.3840            4.97s\n",
      "         6           1.3837            4.53s\n",
      "         7           1.3834            4.05s\n",
      "         8           1.3832            3.60s\n",
      "         9           1.3829            3.12s\n",
      "        10           1.3826            2.64s\n",
      "      Iter       Train Loss   Remaining Time \n",
      "         1           1.3855            6.06s\n",
      "         2           1.3850            5.59s\n",
      "         3           1.3845            5.20s\n",
      "         4           1.3841            4.79s\n",
      "         5           1.3838            4.39s\n",
      "         6           1.3834            4.00s\n",
      "         7           1.3832            3.60s\n",
      "         8           1.3829            3.20s\n",
      "         9           1.3826            2.80s\n",
      "        10           1.3824            2.40s\n",
      "      Iter       Train Loss   Remaining Time \n",
      "         1           1.3855            6.28s\n",
      "         2           1.3850            6.07s\n",
      "         3           1.3845            5.63s\n",
      "         4           1.3841            5.16s\n",
      "         5           1.3836            4.70s\n",
      "         6           1.3833            4.27s\n",
      "         7           1.3829            3.82s\n",
      "         8           1.3826            3.40s\n",
      "         9           1.3823            2.98s\n",
      "        10           1.3820            2.57s\n",
      "      Iter       Train Loss   Remaining Time \n",
      "         1           1.3857            7.20s\n",
      "         2           1.3853            6.65s\n",
      "         3           1.3849            6.09s\n",
      "         4           1.3845            5.54s\n",
      "         5           1.3843            5.00s\n",
      "         6           1.3839            4.49s\n",
      "         7           1.3836            4.00s\n",
      "         8           1.3834            3.52s\n",
      "         9           1.3831            3.07s\n",
      "        10           1.3829            2.64s\n",
      "      Iter       Train Loss   Remaining Time \n",
      "         1           1.3857           12.24s\n",
      "         2           1.3852           11.86s\n",
      "         3           1.3849           10.98s\n",
      "         4           1.3845           10.22s\n",
      "         5           1.3841            9.37s\n",
      "         6           1.3838            8.59s\n",
      "         7           1.3835            7.74s\n",
      "         8           1.3833            6.88s\n",
      "         9           1.3829            6.03s\n",
      "        10           1.3827            5.17s\n",
      "      Iter       Train Loss   Remaining Time \n",
      "         1           1.3856           12.58s\n",
      "         2           1.3851           11.58s\n",
      "         3           1.3847           10.80s\n",
      "         4           1.3843            9.94s\n",
      "         5           1.3839            9.11s\n",
      "         6           1.3836            8.24s\n",
      "         7           1.3832            7.46s\n",
      "         8           1.3829            6.67s\n",
      "         9           1.3827            5.89s\n",
      "        10           1.3824            5.09s\n",
      "      Iter       Train Loss   Remaining Time \n",
      "         1           1.3855           13.77s\n",
      "         2           1.3850           12.79s\n",
      "         3           1.3845           11.90s\n",
      "         4           1.3841           10.90s\n",
      "         5           1.3838            9.87s\n",
      "         6           1.3834            8.82s\n",
      "         7           1.3831            7.90s\n",
      "         8           1.3828            7.04s\n",
      "         9           1.3825            6.17s\n",
      "        10           1.3823            5.30s\n",
      "      Iter       Train Loss   Remaining Time \n",
      "         1           1.3855           13.96s\n",
      "         2           1.3850           13.02s\n",
      "         3           1.3845           12.08s\n",
      "         4           1.3841           10.91s\n",
      "         5           1.3836            9.97s\n",
      "         6           1.3833            8.98s\n",
      "         7           1.3829            7.96s\n",
      "         8           1.3826            7.04s\n",
      "         9           1.3823            6.10s\n",
      "        10           1.3820            5.19s\n",
      "      Iter       Train Loss   Remaining Time \n",
      "         1           1.3857           13.78s\n",
      "         2           1.3853           12.61s\n",
      "         3           1.3849           11.73s\n",
      "         4           1.3845           10.90s\n",
      "         5           1.3841           10.02s\n",
      "         6           1.3838            9.09s\n",
      "         7           1.3835            8.13s\n",
      "         8           1.3832            7.18s\n",
      "         9           1.3829            6.28s\n",
      "        10           1.3827            5.39s\n",
      "      Iter       Train Loss   Remaining Time \n",
      "         1           1.3852           24.72s\n",
      "         2           1.3844           23.12s\n",
      "         3           1.3837           22.12s\n",
      "         4           1.3831           20.83s\n",
      "         5           1.3826           19.24s\n",
      "         6           1.3821           17.50s\n",
      "         7           1.3817           15.52s\n",
      "         8           1.3813           13.77s\n",
      "         9           1.3809           12.01s\n",
      "        10           1.3806           10.36s\n",
      "      Iter       Train Loss   Remaining Time \n"
     ]
    },
    {
     "ename": "KeyboardInterrupt",
     "evalue": "",
     "output_type": "error",
     "traceback": [
      "\u001b[0;31m---------------------------------------------------------------------------\u001b[0m",
      "\u001b[0;31mKeyboardInterrupt\u001b[0m                         Traceback (most recent call last)",
      "\u001b[0;32m<ipython-input-199-35a11558ece6>\u001b[0m in \u001b[0;36m<module>\u001b[0;34m\u001b[0m\n\u001b[1;32m      8\u001b[0m     \u001b[0mverbose\u001b[0m\u001b[0;34m=\u001b[0m\u001b[0;36m1\u001b[0m\u001b[0;34m\u001b[0m\u001b[0;34m\u001b[0m\u001b[0m\n\u001b[1;32m      9\u001b[0m )\n\u001b[0;32m---> 10\u001b[0;31m cv.fit(\n\u001b[0m\u001b[1;32m     11\u001b[0m     \u001b[0mfeat_traintest\u001b[0m\u001b[0;34m.\u001b[0m\u001b[0mloc\u001b[0m\u001b[0;34m[\u001b[0m\u001b[0mtrain_idx\u001b[0m\u001b[0;34m]\u001b[0m\u001b[0;34m,\u001b[0m\u001b[0;34m\u001b[0m\u001b[0;34m\u001b[0m\u001b[0m\n\u001b[1;32m     12\u001b[0m     \u001b[0mpublic_targets\u001b[0m\u001b[0;34m.\u001b[0m\u001b[0mloc\u001b[0m\u001b[0;34m[\u001b[0m\u001b[0mtrain_idx\u001b[0m\u001b[0;34m,\u001b[0m \u001b[0;34m'TARGET'\u001b[0m\u001b[0;34m]\u001b[0m\u001b[0;34m,\u001b[0m\u001b[0;34m\u001b[0m\u001b[0;34m\u001b[0m\u001b[0m\n",
      "\u001b[0;32m~/opt/anaconda3/lib/python3.8/site-packages/sklearn/model_selection/_search.py\u001b[0m in \u001b[0;36mfit\u001b[0;34m(self, X, y, groups, **fit_params)\u001b[0m\n\u001b[1;32m    889\u001b[0m                 \u001b[0;32mreturn\u001b[0m \u001b[0mresults\u001b[0m\u001b[0;34m\u001b[0m\u001b[0;34m\u001b[0m\u001b[0m\n\u001b[1;32m    890\u001b[0m \u001b[0;34m\u001b[0m\u001b[0m\n\u001b[0;32m--> 891\u001b[0;31m             \u001b[0mself\u001b[0m\u001b[0;34m.\u001b[0m\u001b[0m_run_search\u001b[0m\u001b[0;34m(\u001b[0m\u001b[0mevaluate_candidates\u001b[0m\u001b[0;34m)\u001b[0m\u001b[0;34m\u001b[0m\u001b[0;34m\u001b[0m\u001b[0m\n\u001b[0m\u001b[1;32m    892\u001b[0m \u001b[0;34m\u001b[0m\u001b[0m\n\u001b[1;32m    893\u001b[0m             \u001b[0;31m# multimetric is determined here because in the case of a callable\u001b[0m\u001b[0;34m\u001b[0m\u001b[0;34m\u001b[0m\u001b[0;34m\u001b[0m\u001b[0m\n",
      "\u001b[0;32m~/opt/anaconda3/lib/python3.8/site-packages/sklearn/model_selection/_search.py\u001b[0m in \u001b[0;36m_run_search\u001b[0;34m(self, evaluate_candidates)\u001b[0m\n\u001b[1;32m   1390\u001b[0m     \u001b[0;32mdef\u001b[0m \u001b[0m_run_search\u001b[0m\u001b[0;34m(\u001b[0m\u001b[0mself\u001b[0m\u001b[0;34m,\u001b[0m \u001b[0mevaluate_candidates\u001b[0m\u001b[0;34m)\u001b[0m\u001b[0;34m:\u001b[0m\u001b[0;34m\u001b[0m\u001b[0;34m\u001b[0m\u001b[0m\n\u001b[1;32m   1391\u001b[0m         \u001b[0;34m\"\"\"Search all candidates in param_grid\"\"\"\u001b[0m\u001b[0;34m\u001b[0m\u001b[0;34m\u001b[0m\u001b[0m\n\u001b[0;32m-> 1392\u001b[0;31m         \u001b[0mevaluate_candidates\u001b[0m\u001b[0;34m(\u001b[0m\u001b[0mParameterGrid\u001b[0m\u001b[0;34m(\u001b[0m\u001b[0mself\u001b[0m\u001b[0;34m.\u001b[0m\u001b[0mparam_grid\u001b[0m\u001b[0;34m)\u001b[0m\u001b[0;34m)\u001b[0m\u001b[0;34m\u001b[0m\u001b[0;34m\u001b[0m\u001b[0m\n\u001b[0m\u001b[1;32m   1393\u001b[0m \u001b[0;34m\u001b[0m\u001b[0m\n\u001b[1;32m   1394\u001b[0m \u001b[0;34m\u001b[0m\u001b[0m\n",
      "\u001b[0;32m~/opt/anaconda3/lib/python3.8/site-packages/sklearn/model_selection/_search.py\u001b[0m in \u001b[0;36mevaluate_candidates\u001b[0;34m(candidate_params, cv, more_results)\u001b[0m\n\u001b[1;32m    836\u001b[0m                     )\n\u001b[1;32m    837\u001b[0m \u001b[0;34m\u001b[0m\u001b[0m\n\u001b[0;32m--> 838\u001b[0;31m                 out = parallel(\n\u001b[0m\u001b[1;32m    839\u001b[0m                     delayed(_fit_and_score)(\n\u001b[1;32m    840\u001b[0m                         \u001b[0mclone\u001b[0m\u001b[0;34m(\u001b[0m\u001b[0mbase_estimator\u001b[0m\u001b[0;34m)\u001b[0m\u001b[0;34m,\u001b[0m\u001b[0;34m\u001b[0m\u001b[0;34m\u001b[0m\u001b[0m\n",
      "\u001b[0;32m~/opt/anaconda3/lib/python3.8/site-packages/joblib/parallel.py\u001b[0m in \u001b[0;36m__call__\u001b[0;34m(self, iterable)\u001b[0m\n\u001b[1;32m   1042\u001b[0m                 \u001b[0mself\u001b[0m\u001b[0;34m.\u001b[0m\u001b[0m_iterating\u001b[0m \u001b[0;34m=\u001b[0m \u001b[0mself\u001b[0m\u001b[0;34m.\u001b[0m\u001b[0m_original_iterator\u001b[0m \u001b[0;32mis\u001b[0m \u001b[0;32mnot\u001b[0m \u001b[0;32mNone\u001b[0m\u001b[0;34m\u001b[0m\u001b[0;34m\u001b[0m\u001b[0m\n\u001b[1;32m   1043\u001b[0m \u001b[0;34m\u001b[0m\u001b[0m\n\u001b[0;32m-> 1044\u001b[0;31m             \u001b[0;32mwhile\u001b[0m \u001b[0mself\u001b[0m\u001b[0;34m.\u001b[0m\u001b[0mdispatch_one_batch\u001b[0m\u001b[0;34m(\u001b[0m\u001b[0miterator\u001b[0m\u001b[0;34m)\u001b[0m\u001b[0;34m:\u001b[0m\u001b[0;34m\u001b[0m\u001b[0;34m\u001b[0m\u001b[0m\n\u001b[0m\u001b[1;32m   1045\u001b[0m                 \u001b[0;32mpass\u001b[0m\u001b[0;34m\u001b[0m\u001b[0;34m\u001b[0m\u001b[0m\n\u001b[1;32m   1046\u001b[0m \u001b[0;34m\u001b[0m\u001b[0m\n",
      "\u001b[0;32m~/opt/anaconda3/lib/python3.8/site-packages/joblib/parallel.py\u001b[0m in \u001b[0;36mdispatch_one_batch\u001b[0;34m(self, iterator)\u001b[0m\n\u001b[1;32m    857\u001b[0m                 \u001b[0;32mreturn\u001b[0m \u001b[0;32mFalse\u001b[0m\u001b[0;34m\u001b[0m\u001b[0;34m\u001b[0m\u001b[0m\n\u001b[1;32m    858\u001b[0m             \u001b[0;32melse\u001b[0m\u001b[0;34m:\u001b[0m\u001b[0;34m\u001b[0m\u001b[0;34m\u001b[0m\u001b[0m\n\u001b[0;32m--> 859\u001b[0;31m                 \u001b[0mself\u001b[0m\u001b[0;34m.\u001b[0m\u001b[0m_dispatch\u001b[0m\u001b[0;34m(\u001b[0m\u001b[0mtasks\u001b[0m\u001b[0;34m)\u001b[0m\u001b[0;34m\u001b[0m\u001b[0;34m\u001b[0m\u001b[0m\n\u001b[0m\u001b[1;32m    860\u001b[0m                 \u001b[0;32mreturn\u001b[0m \u001b[0;32mTrue\u001b[0m\u001b[0;34m\u001b[0m\u001b[0;34m\u001b[0m\u001b[0m\n\u001b[1;32m    861\u001b[0m \u001b[0;34m\u001b[0m\u001b[0m\n",
      "\u001b[0;32m~/opt/anaconda3/lib/python3.8/site-packages/joblib/parallel.py\u001b[0m in \u001b[0;36m_dispatch\u001b[0;34m(self, batch)\u001b[0m\n\u001b[1;32m    775\u001b[0m         \u001b[0;32mwith\u001b[0m \u001b[0mself\u001b[0m\u001b[0;34m.\u001b[0m\u001b[0m_lock\u001b[0m\u001b[0;34m:\u001b[0m\u001b[0;34m\u001b[0m\u001b[0;34m\u001b[0m\u001b[0m\n\u001b[1;32m    776\u001b[0m             \u001b[0mjob_idx\u001b[0m \u001b[0;34m=\u001b[0m \u001b[0mlen\u001b[0m\u001b[0;34m(\u001b[0m\u001b[0mself\u001b[0m\u001b[0;34m.\u001b[0m\u001b[0m_jobs\u001b[0m\u001b[0;34m)\u001b[0m\u001b[0;34m\u001b[0m\u001b[0;34m\u001b[0m\u001b[0m\n\u001b[0;32m--> 777\u001b[0;31m             \u001b[0mjob\u001b[0m \u001b[0;34m=\u001b[0m \u001b[0mself\u001b[0m\u001b[0;34m.\u001b[0m\u001b[0m_backend\u001b[0m\u001b[0;34m.\u001b[0m\u001b[0mapply_async\u001b[0m\u001b[0;34m(\u001b[0m\u001b[0mbatch\u001b[0m\u001b[0;34m,\u001b[0m \u001b[0mcallback\u001b[0m\u001b[0;34m=\u001b[0m\u001b[0mcb\u001b[0m\u001b[0;34m)\u001b[0m\u001b[0;34m\u001b[0m\u001b[0;34m\u001b[0m\u001b[0m\n\u001b[0m\u001b[1;32m    778\u001b[0m             \u001b[0;31m# A job can complete so quickly than its callback is\u001b[0m\u001b[0;34m\u001b[0m\u001b[0;34m\u001b[0m\u001b[0;34m\u001b[0m\u001b[0m\n\u001b[1;32m    779\u001b[0m             \u001b[0;31m# called before we get here, causing self._jobs to\u001b[0m\u001b[0;34m\u001b[0m\u001b[0;34m\u001b[0m\u001b[0;34m\u001b[0m\u001b[0m\n",
      "\u001b[0;32m~/opt/anaconda3/lib/python3.8/site-packages/joblib/_parallel_backends.py\u001b[0m in \u001b[0;36mapply_async\u001b[0;34m(self, func, callback)\u001b[0m\n\u001b[1;32m    206\u001b[0m     \u001b[0;32mdef\u001b[0m \u001b[0mapply_async\u001b[0m\u001b[0;34m(\u001b[0m\u001b[0mself\u001b[0m\u001b[0;34m,\u001b[0m \u001b[0mfunc\u001b[0m\u001b[0;34m,\u001b[0m \u001b[0mcallback\u001b[0m\u001b[0;34m=\u001b[0m\u001b[0;32mNone\u001b[0m\u001b[0;34m)\u001b[0m\u001b[0;34m:\u001b[0m\u001b[0;34m\u001b[0m\u001b[0;34m\u001b[0m\u001b[0m\n\u001b[1;32m    207\u001b[0m         \u001b[0;34m\"\"\"Schedule a func to be run\"\"\"\u001b[0m\u001b[0;34m\u001b[0m\u001b[0;34m\u001b[0m\u001b[0m\n\u001b[0;32m--> 208\u001b[0;31m         \u001b[0mresult\u001b[0m \u001b[0;34m=\u001b[0m \u001b[0mImmediateResult\u001b[0m\u001b[0;34m(\u001b[0m\u001b[0mfunc\u001b[0m\u001b[0;34m)\u001b[0m\u001b[0;34m\u001b[0m\u001b[0;34m\u001b[0m\u001b[0m\n\u001b[0m\u001b[1;32m    209\u001b[0m         \u001b[0;32mif\u001b[0m \u001b[0mcallback\u001b[0m\u001b[0;34m:\u001b[0m\u001b[0;34m\u001b[0m\u001b[0;34m\u001b[0m\u001b[0m\n\u001b[1;32m    210\u001b[0m             \u001b[0mcallback\u001b[0m\u001b[0;34m(\u001b[0m\u001b[0mresult\u001b[0m\u001b[0;34m)\u001b[0m\u001b[0;34m\u001b[0m\u001b[0;34m\u001b[0m\u001b[0m\n",
      "\u001b[0;32m~/opt/anaconda3/lib/python3.8/site-packages/joblib/_parallel_backends.py\u001b[0m in \u001b[0;36m__init__\u001b[0;34m(self, batch)\u001b[0m\n\u001b[1;32m    570\u001b[0m         \u001b[0;31m# Don't delay the application, to avoid keeping the input\u001b[0m\u001b[0;34m\u001b[0m\u001b[0;34m\u001b[0m\u001b[0;34m\u001b[0m\u001b[0m\n\u001b[1;32m    571\u001b[0m         \u001b[0;31m# arguments in memory\u001b[0m\u001b[0;34m\u001b[0m\u001b[0;34m\u001b[0m\u001b[0;34m\u001b[0m\u001b[0m\n\u001b[0;32m--> 572\u001b[0;31m         \u001b[0mself\u001b[0m\u001b[0;34m.\u001b[0m\u001b[0mresults\u001b[0m \u001b[0;34m=\u001b[0m \u001b[0mbatch\u001b[0m\u001b[0;34m(\u001b[0m\u001b[0;34m)\u001b[0m\u001b[0;34m\u001b[0m\u001b[0;34m\u001b[0m\u001b[0m\n\u001b[0m\u001b[1;32m    573\u001b[0m \u001b[0;34m\u001b[0m\u001b[0m\n\u001b[1;32m    574\u001b[0m     \u001b[0;32mdef\u001b[0m \u001b[0mget\u001b[0m\u001b[0;34m(\u001b[0m\u001b[0mself\u001b[0m\u001b[0;34m)\u001b[0m\u001b[0;34m:\u001b[0m\u001b[0;34m\u001b[0m\u001b[0;34m\u001b[0m\u001b[0m\n",
      "\u001b[0;32m~/opt/anaconda3/lib/python3.8/site-packages/joblib/parallel.py\u001b[0m in \u001b[0;36m__call__\u001b[0;34m(self)\u001b[0m\n\u001b[1;32m    260\u001b[0m         \u001b[0;31m# change the default number of processes to -1\u001b[0m\u001b[0;34m\u001b[0m\u001b[0;34m\u001b[0m\u001b[0;34m\u001b[0m\u001b[0m\n\u001b[1;32m    261\u001b[0m         \u001b[0;32mwith\u001b[0m \u001b[0mparallel_backend\u001b[0m\u001b[0;34m(\u001b[0m\u001b[0mself\u001b[0m\u001b[0;34m.\u001b[0m\u001b[0m_backend\u001b[0m\u001b[0;34m,\u001b[0m \u001b[0mn_jobs\u001b[0m\u001b[0;34m=\u001b[0m\u001b[0mself\u001b[0m\u001b[0;34m.\u001b[0m\u001b[0m_n_jobs\u001b[0m\u001b[0;34m)\u001b[0m\u001b[0;34m:\u001b[0m\u001b[0;34m\u001b[0m\u001b[0;34m\u001b[0m\u001b[0m\n\u001b[0;32m--> 262\u001b[0;31m             return [func(*args, **kwargs)\n\u001b[0m\u001b[1;32m    263\u001b[0m                     for func, args, kwargs in self.items]\n\u001b[1;32m    264\u001b[0m \u001b[0;34m\u001b[0m\u001b[0m\n",
      "\u001b[0;32m~/opt/anaconda3/lib/python3.8/site-packages/joblib/parallel.py\u001b[0m in \u001b[0;36m<listcomp>\u001b[0;34m(.0)\u001b[0m\n\u001b[1;32m    260\u001b[0m         \u001b[0;31m# change the default number of processes to -1\u001b[0m\u001b[0;34m\u001b[0m\u001b[0;34m\u001b[0m\u001b[0;34m\u001b[0m\u001b[0m\n\u001b[1;32m    261\u001b[0m         \u001b[0;32mwith\u001b[0m \u001b[0mparallel_backend\u001b[0m\u001b[0;34m(\u001b[0m\u001b[0mself\u001b[0m\u001b[0;34m.\u001b[0m\u001b[0m_backend\u001b[0m\u001b[0;34m,\u001b[0m \u001b[0mn_jobs\u001b[0m\u001b[0;34m=\u001b[0m\u001b[0mself\u001b[0m\u001b[0;34m.\u001b[0m\u001b[0m_n_jobs\u001b[0m\u001b[0;34m)\u001b[0m\u001b[0;34m:\u001b[0m\u001b[0;34m\u001b[0m\u001b[0;34m\u001b[0m\u001b[0m\n\u001b[0;32m--> 262\u001b[0;31m             return [func(*args, **kwargs)\n\u001b[0m\u001b[1;32m    263\u001b[0m                     for func, args, kwargs in self.items]\n\u001b[1;32m    264\u001b[0m \u001b[0;34m\u001b[0m\u001b[0m\n",
      "\u001b[0;32m~/opt/anaconda3/lib/python3.8/site-packages/sklearn/utils/fixes.py\u001b[0m in \u001b[0;36m__call__\u001b[0;34m(self, *args, **kwargs)\u001b[0m\n\u001b[1;32m    214\u001b[0m     \u001b[0;32mdef\u001b[0m \u001b[0m__call__\u001b[0m\u001b[0;34m(\u001b[0m\u001b[0mself\u001b[0m\u001b[0;34m,\u001b[0m \u001b[0;34m*\u001b[0m\u001b[0margs\u001b[0m\u001b[0;34m,\u001b[0m \u001b[0;34m**\u001b[0m\u001b[0mkwargs\u001b[0m\u001b[0;34m)\u001b[0m\u001b[0;34m:\u001b[0m\u001b[0;34m\u001b[0m\u001b[0;34m\u001b[0m\u001b[0m\n\u001b[1;32m    215\u001b[0m         \u001b[0;32mwith\u001b[0m \u001b[0mconfig_context\u001b[0m\u001b[0;34m(\u001b[0m\u001b[0;34m**\u001b[0m\u001b[0mself\u001b[0m\u001b[0;34m.\u001b[0m\u001b[0mconfig\u001b[0m\u001b[0;34m)\u001b[0m\u001b[0;34m:\u001b[0m\u001b[0;34m\u001b[0m\u001b[0;34m\u001b[0m\u001b[0m\n\u001b[0;32m--> 216\u001b[0;31m             \u001b[0;32mreturn\u001b[0m \u001b[0mself\u001b[0m\u001b[0;34m.\u001b[0m\u001b[0mfunction\u001b[0m\u001b[0;34m(\u001b[0m\u001b[0;34m*\u001b[0m\u001b[0margs\u001b[0m\u001b[0;34m,\u001b[0m \u001b[0;34m**\u001b[0m\u001b[0mkwargs\u001b[0m\u001b[0;34m)\u001b[0m\u001b[0;34m\u001b[0m\u001b[0;34m\u001b[0m\u001b[0m\n\u001b[0m\u001b[1;32m    217\u001b[0m \u001b[0;34m\u001b[0m\u001b[0m\n\u001b[1;32m    218\u001b[0m \u001b[0;34m\u001b[0m\u001b[0m\n",
      "\u001b[0;32m~/opt/anaconda3/lib/python3.8/site-packages/sklearn/model_selection/_validation.py\u001b[0m in \u001b[0;36m_fit_and_score\u001b[0;34m(estimator, X, y, scorer, train, test, verbose, parameters, fit_params, return_train_score, return_parameters, return_n_test_samples, return_times, return_estimator, split_progress, candidate_progress, error_score)\u001b[0m\n\u001b[1;32m    678\u001b[0m             \u001b[0mestimator\u001b[0m\u001b[0;34m.\u001b[0m\u001b[0mfit\u001b[0m\u001b[0;34m(\u001b[0m\u001b[0mX_train\u001b[0m\u001b[0;34m,\u001b[0m \u001b[0;34m**\u001b[0m\u001b[0mfit_params\u001b[0m\u001b[0;34m)\u001b[0m\u001b[0;34m\u001b[0m\u001b[0;34m\u001b[0m\u001b[0m\n\u001b[1;32m    679\u001b[0m         \u001b[0;32melse\u001b[0m\u001b[0;34m:\u001b[0m\u001b[0;34m\u001b[0m\u001b[0;34m\u001b[0m\u001b[0m\n\u001b[0;32m--> 680\u001b[0;31m             \u001b[0mestimator\u001b[0m\u001b[0;34m.\u001b[0m\u001b[0mfit\u001b[0m\u001b[0;34m(\u001b[0m\u001b[0mX_train\u001b[0m\u001b[0;34m,\u001b[0m \u001b[0my_train\u001b[0m\u001b[0;34m,\u001b[0m \u001b[0;34m**\u001b[0m\u001b[0mfit_params\u001b[0m\u001b[0;34m)\u001b[0m\u001b[0;34m\u001b[0m\u001b[0;34m\u001b[0m\u001b[0m\n\u001b[0m\u001b[1;32m    681\u001b[0m \u001b[0;34m\u001b[0m\u001b[0m\n\u001b[1;32m    682\u001b[0m     \u001b[0;32mexcept\u001b[0m \u001b[0mException\u001b[0m\u001b[0;34m:\u001b[0m\u001b[0;34m\u001b[0m\u001b[0;34m\u001b[0m\u001b[0m\n",
      "\u001b[0;32m~/opt/anaconda3/lib/python3.8/site-packages/sklearn/pipeline.py\u001b[0m in \u001b[0;36mfit\u001b[0;34m(self, X, y, **fit_params)\u001b[0m\n\u001b[1;32m    392\u001b[0m             \u001b[0;32mif\u001b[0m \u001b[0mself\u001b[0m\u001b[0;34m.\u001b[0m\u001b[0m_final_estimator\u001b[0m \u001b[0;34m!=\u001b[0m \u001b[0;34m\"passthrough\"\u001b[0m\u001b[0;34m:\u001b[0m\u001b[0;34m\u001b[0m\u001b[0;34m\u001b[0m\u001b[0m\n\u001b[1;32m    393\u001b[0m                 \u001b[0mfit_params_last_step\u001b[0m \u001b[0;34m=\u001b[0m \u001b[0mfit_params_steps\u001b[0m\u001b[0;34m[\u001b[0m\u001b[0mself\u001b[0m\u001b[0;34m.\u001b[0m\u001b[0msteps\u001b[0m\u001b[0;34m[\u001b[0m\u001b[0;34m-\u001b[0m\u001b[0;36m1\u001b[0m\u001b[0;34m]\u001b[0m\u001b[0;34m[\u001b[0m\u001b[0;36m0\u001b[0m\u001b[0;34m]\u001b[0m\u001b[0;34m]\u001b[0m\u001b[0;34m\u001b[0m\u001b[0;34m\u001b[0m\u001b[0m\n\u001b[0;32m--> 394\u001b[0;31m                 \u001b[0mself\u001b[0m\u001b[0;34m.\u001b[0m\u001b[0m_final_estimator\u001b[0m\u001b[0;34m.\u001b[0m\u001b[0mfit\u001b[0m\u001b[0;34m(\u001b[0m\u001b[0mXt\u001b[0m\u001b[0;34m,\u001b[0m \u001b[0my\u001b[0m\u001b[0;34m,\u001b[0m \u001b[0;34m**\u001b[0m\u001b[0mfit_params_last_step\u001b[0m\u001b[0;34m)\u001b[0m\u001b[0;34m\u001b[0m\u001b[0;34m\u001b[0m\u001b[0m\n\u001b[0m\u001b[1;32m    395\u001b[0m \u001b[0;34m\u001b[0m\u001b[0m\n\u001b[1;32m    396\u001b[0m         \u001b[0;32mreturn\u001b[0m \u001b[0mself\u001b[0m\u001b[0;34m\u001b[0m\u001b[0;34m\u001b[0m\u001b[0m\n",
      "\u001b[0;32m~/opt/anaconda3/lib/python3.8/site-packages/sklearn/ensemble/_gb.py\u001b[0m in \u001b[0;36mfit\u001b[0;34m(self, X, y, sample_weight, monitor)\u001b[0m\n\u001b[1;32m    584\u001b[0m \u001b[0;34m\u001b[0m\u001b[0m\n\u001b[1;32m    585\u001b[0m         \u001b[0;31m# fit the boosting stages\u001b[0m\u001b[0;34m\u001b[0m\u001b[0;34m\u001b[0m\u001b[0;34m\u001b[0m\u001b[0m\n\u001b[0;32m--> 586\u001b[0;31m         n_stages = self._fit_stages(\n\u001b[0m\u001b[1;32m    587\u001b[0m             \u001b[0mX\u001b[0m\u001b[0;34m,\u001b[0m\u001b[0;34m\u001b[0m\u001b[0;34m\u001b[0m\u001b[0m\n\u001b[1;32m    588\u001b[0m             \u001b[0my\u001b[0m\u001b[0;34m,\u001b[0m\u001b[0;34m\u001b[0m\u001b[0;34m\u001b[0m\u001b[0m\n",
      "\u001b[0;32m~/opt/anaconda3/lib/python3.8/site-packages/sklearn/ensemble/_gb.py\u001b[0m in \u001b[0;36m_fit_stages\u001b[0;34m(self, X, y, raw_predictions, sample_weight, random_state, X_val, y_val, sample_weight_val, begin_at_stage, monitor)\u001b[0m\n\u001b[1;32m    661\u001b[0m \u001b[0;34m\u001b[0m\u001b[0m\n\u001b[1;32m    662\u001b[0m             \u001b[0;31m# fit next stage of trees\u001b[0m\u001b[0;34m\u001b[0m\u001b[0;34m\u001b[0m\u001b[0;34m\u001b[0m\u001b[0m\n\u001b[0;32m--> 663\u001b[0;31m             raw_predictions = self._fit_stage(\n\u001b[0m\u001b[1;32m    664\u001b[0m                 \u001b[0mi\u001b[0m\u001b[0;34m,\u001b[0m\u001b[0;34m\u001b[0m\u001b[0;34m\u001b[0m\u001b[0m\n\u001b[1;32m    665\u001b[0m                 \u001b[0mX\u001b[0m\u001b[0;34m,\u001b[0m\u001b[0;34m\u001b[0m\u001b[0;34m\u001b[0m\u001b[0m\n",
      "\u001b[0;32m~/opt/anaconda3/lib/python3.8/site-packages/sklearn/ensemble/_gb.py\u001b[0m in \u001b[0;36m_fit_stage\u001b[0;34m(self, i, X, y, raw_predictions, sample_weight, sample_mask, random_state, X_csc, X_csr)\u001b[0m\n\u001b[1;32m    244\u001b[0m \u001b[0;34m\u001b[0m\u001b[0m\n\u001b[1;32m    245\u001b[0m             \u001b[0mX\u001b[0m \u001b[0;34m=\u001b[0m \u001b[0mX_csr\u001b[0m \u001b[0;32mif\u001b[0m \u001b[0mX_csr\u001b[0m \u001b[0;32mis\u001b[0m \u001b[0;32mnot\u001b[0m \u001b[0;32mNone\u001b[0m \u001b[0;32melse\u001b[0m \u001b[0mX\u001b[0m\u001b[0;34m\u001b[0m\u001b[0;34m\u001b[0m\u001b[0m\n\u001b[0;32m--> 246\u001b[0;31m             \u001b[0mtree\u001b[0m\u001b[0;34m.\u001b[0m\u001b[0mfit\u001b[0m\u001b[0;34m(\u001b[0m\u001b[0mX\u001b[0m\u001b[0;34m,\u001b[0m \u001b[0mresidual\u001b[0m\u001b[0;34m,\u001b[0m \u001b[0msample_weight\u001b[0m\u001b[0;34m=\u001b[0m\u001b[0msample_weight\u001b[0m\u001b[0;34m,\u001b[0m \u001b[0mcheck_input\u001b[0m\u001b[0;34m=\u001b[0m\u001b[0;32mFalse\u001b[0m\u001b[0;34m)\u001b[0m\u001b[0;34m\u001b[0m\u001b[0;34m\u001b[0m\u001b[0m\n\u001b[0m\u001b[1;32m    247\u001b[0m \u001b[0;34m\u001b[0m\u001b[0m\n\u001b[1;32m    248\u001b[0m             \u001b[0;31m# update tree leaves\u001b[0m\u001b[0;34m\u001b[0m\u001b[0;34m\u001b[0m\u001b[0;34m\u001b[0m\u001b[0m\n",
      "\u001b[0;32m~/opt/anaconda3/lib/python3.8/site-packages/sklearn/tree/_classes.py\u001b[0m in \u001b[0;36mfit\u001b[0;34m(self, X, y, sample_weight, check_input, X_idx_sorted)\u001b[0m\n\u001b[1;32m   1313\u001b[0m         \"\"\"\n\u001b[1;32m   1314\u001b[0m \u001b[0;34m\u001b[0m\u001b[0m\n\u001b[0;32m-> 1315\u001b[0;31m         super().fit(\n\u001b[0m\u001b[1;32m   1316\u001b[0m             \u001b[0mX\u001b[0m\u001b[0;34m,\u001b[0m\u001b[0;34m\u001b[0m\u001b[0;34m\u001b[0m\u001b[0m\n\u001b[1;32m   1317\u001b[0m             \u001b[0my\u001b[0m\u001b[0;34m,\u001b[0m\u001b[0;34m\u001b[0m\u001b[0;34m\u001b[0m\u001b[0m\n",
      "\u001b[0;32m~/opt/anaconda3/lib/python3.8/site-packages/sklearn/tree/_classes.py\u001b[0m in \u001b[0;36mfit\u001b[0;34m(self, X, y, sample_weight, check_input, X_idx_sorted)\u001b[0m\n\u001b[1;32m    418\u001b[0m             )\n\u001b[1;32m    419\u001b[0m \u001b[0;34m\u001b[0m\u001b[0m\n\u001b[0;32m--> 420\u001b[0;31m         \u001b[0mbuilder\u001b[0m\u001b[0;34m.\u001b[0m\u001b[0mbuild\u001b[0m\u001b[0;34m(\u001b[0m\u001b[0mself\u001b[0m\u001b[0;34m.\u001b[0m\u001b[0mtree_\u001b[0m\u001b[0;34m,\u001b[0m \u001b[0mX\u001b[0m\u001b[0;34m,\u001b[0m \u001b[0my\u001b[0m\u001b[0;34m,\u001b[0m \u001b[0msample_weight\u001b[0m\u001b[0;34m)\u001b[0m\u001b[0;34m\u001b[0m\u001b[0;34m\u001b[0m\u001b[0m\n\u001b[0m\u001b[1;32m    421\u001b[0m \u001b[0;34m\u001b[0m\u001b[0m\n\u001b[1;32m    422\u001b[0m         \u001b[0;32mif\u001b[0m \u001b[0mself\u001b[0m\u001b[0;34m.\u001b[0m\u001b[0mn_outputs_\u001b[0m \u001b[0;34m==\u001b[0m \u001b[0;36m1\u001b[0m \u001b[0;32mand\u001b[0m \u001b[0mis_classifier\u001b[0m\u001b[0;34m(\u001b[0m\u001b[0mself\u001b[0m\u001b[0;34m)\u001b[0m\u001b[0;34m:\u001b[0m\u001b[0;34m\u001b[0m\u001b[0;34m\u001b[0m\u001b[0m\n",
      "\u001b[0;31mKeyboardInterrupt\u001b[0m: "
     ]
    }
   ],
   "source": [
    "cv = GridSearchCV(\n",
    "    clf, \n",
    "    param_grid={\n",
    "        'gradientboostingclassifier__n_estimators': [16, 32, 64],\n",
    "        'gradientboostingclassifier__max_depth': [2, 4, 8],\n",
    "        'pca__n_components': [32, 64, 128]\n",
    "    },\n",
    "    verbose=1\n",
    ")\n",
    "cv.fit(\n",
    "    feat_traintest.loc[train_idx], \n",
    "    public_targets.loc[train_idx, 'TARGET'],\n",
    "    gradientboostingclassifier__sample_weight=sample_weight,\n",
    ")"
   ]
  },
  {
   "cell_type": "code",
   "execution_count": 174,
   "id": "1640858c",
   "metadata": {},
   "outputs": [
    {
     "data": {
      "text/plain": [
       "0.5475728899355483"
      ]
     },
     "execution_count": 174,
     "metadata": {},
     "output_type": "execute_result"
    }
   ],
   "source": []
  },
  {
   "cell_type": "code",
   "execution_count": null,
   "id": "26d8b67f",
   "metadata": {},
   "outputs": [],
   "source": []
  }
 ],
 "metadata": {
  "kernelspec": {
   "display_name": "Python 3",
   "language": "python",
   "name": "python3"
  },
  "language_info": {
   "codemirror_mode": {
    "name": "ipython",
    "version": 3
   },
   "file_extension": ".py",
   "mimetype": "text/x-python",
   "name": "python",
   "nbconvert_exporter": "python",
   "pygments_lexer": "ipython3",
   "version": "3.8.8"
  }
 },
 "nbformat": 4,
 "nbformat_minor": 5
}
