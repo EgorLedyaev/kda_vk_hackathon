{
 "cells": [
  {
   "cell_type": "code",
   "execution_count": 1,
   "id": "ca757e48",
   "metadata": {},
   "outputs": [],
   "source": [
    "import pandas as pd\n",
    "from tqdm import tqdm\n",
    "import matplotlib.pyplot as plt\n",
    "import numpy as np"
   ]
  },
  {
   "cell_type": "code",
   "execution_count": 2,
   "id": "9e638af6",
   "metadata": {},
   "outputs": [],
   "source": [
    "def read_csv_pgbar(csv_path, index_col=None, chunksize=1024, read_first=None, usecols=None):\n",
    "    rows = sum(1 for _ in open(csv_path, 'r')) - 1\n",
    "    chunk_list = []\n",
    "    with tqdm(total=rows, desc=f'Reading {csv_path}') as pbar:\n",
    "        i = 0\n",
    "        for chunk in pd.read_csv(csv_path, index_col=index_col, chunksize=chunksize, sep='\\t', usecols=usecols):\n",
    "            chunk_list.append(chunk)\n",
    "            pbar.update(len(chunk))\n",
    "            i += 1\n",
    "            if i+1 == read_first:\n",
    "                break\n",
    "    df = pd.concat((f for f in chunk_list), axis=0)\n",
    "    return df"
   ]
  },
  {
   "cell_type": "markdown",
   "id": "bb30d07f",
   "metadata": {},
   "source": [
    "Create client_feat.csv"
   ]
  },
  {
   "cell_type": "code",
   "execution_count": 3,
   "id": "eb859803",
   "metadata": {},
   "outputs": [
    {
     "name": "stderr",
     "output_type": "stream",
     "text": [
      "Reading FINAL_FEATURES_TRAINTEST.tsv: 100%|██████████| 159288/159288 [00:14<00:00, 11185.94it/s]\n"
     ]
    }
   ],
   "source": [
    "feat_traintest = read_csv_pgbar('FINAL_FEATURES_TRAINTEST.tsv')\n",
    "feat_traintest.to_csv('client_feat.csv', index=False)"
   ]
  },
  {
   "cell_type": "markdown",
   "id": "298747e2",
   "metadata": {},
   "source": [
    "Create full_seq.csv"
   ]
  },
  {
   "cell_type": "code",
   "execution_count": null,
   "id": "44488375",
   "metadata": {},
   "outputs": [],
   "source": [
    "targets_traintest = read_csv_pgbar('FINAL_TARGETS_DATES_TRAINTEST.tsv', index_col=0)\n",
    "all_seq_traintest = read_csv_pgbar('FINAL_ALL_SEQUENCES_TRAINTEST.tsv', index_col=0)\n",
    "all_seq_traintest['seq_list'] = None\n",
    "for idx in tqdm(all_seq_traintest.index):\n",
    "    all_seq_traintest.loc[idx, 'seq_list'] = ' '.join(eval(all_seq_traintest.loc[idx, 'SEQUENCE']))\n",
    "seq_target = pd.merge(targets_traintest, all_seq_traintest, left_index=True, right_index=True, how='left')\n",
    "seq_target['seq'] = None\n",
    "for idx in tqdm(seq_target.index):\n",
    "    if str(seq_target.loc[idx, 'seq_list']) != 'nan':        \n",
    "        seq_target.loc[idx, 'seq'] = 'start_state ' + seq_target.loc[idx, 'seq_list']\n",
    "    else:\n",
    "        seq_target.loc[idx, 'seq'] = 'start_state'\n",
    "seq_target.reset_index()[['CLIENT_ID', 'seq']].to_csv('full_seq.csv', index=False)"
   ]
  },
  {
   "cell_type": "markdown",
   "id": "fb5d8398",
   "metadata": {},
   "source": [
    "Create target.csv"
   ]
  },
  {
   "cell_type": "code",
   "execution_count": null,
   "id": "c60696ea",
   "metadata": {},
   "outputs": [],
   "source": [
    "targets_traintest.reset_index()[['CLIENT_ID', 'TARGET']].to_csv('target.csv', index=False)"
   ]
  },
  {
   "cell_type": "markdown",
   "id": "e4907b5c",
   "metadata": {},
   "source": [
    "Create av_friends.csv"
   ]
  },
  {
   "cell_type": "code",
   "execution_count": null,
   "id": "7aab421c",
   "metadata": {},
   "outputs": [],
   "source": [
    "pbar = tqdm(total=9974289)\n",
    "with open('FINAL_FEATURES_FRIENDS.tsv', mode='r') as rfile, open('friends.tsv', mode='w') as wfile:\n",
    "    prev_client_id = 0\n",
    "    n_friends = 0\n",
    "    row_data = np.zeros(1014,)\n",
    "    wfile.write(rfile.readline())\n",
    "    while True:\n",
    "        line = rfile.readline()\n",
    "        if not line:\n",
    "            break\n",
    "        list_of_strings = line.split('\\t')\n",
    "        row = list(map(float, list_of_strings))\n",
    "        client_id = int(row[0])\n",
    "        friend_id = int(row[-1])\n",
    "        if prev_client_id != client_id:\n",
    "            ints = [prev_client_id] + row_data.astype('int').tolist() + [n_friends]\n",
    "            wfile.write('\\t'.join([str(i) for i in ints]) + '\\n')\n",
    "            \n",
    "            prev_client_id = client_id\n",
    "            n_friends = 0\n",
    "            row_data = np.zeros(1014,)\n",
    "        row_data = row_data + np.array(row[1:-1])\n",
    "        n_friends += 1\n",
    "        pbar.update(1)"
   ]
  },
  {
   "cell_type": "code",
   "execution_count": null,
   "id": "8fe03b8d",
   "metadata": {},
   "outputs": [],
   "source": [
    "feat_friends = read_csv_pgbar('friends.tsv')\n",
    "feat_client = pd.read_csv('client_feat.csv')\n",
    "feat_client['N_FRIENDS'] = 1\n",
    "feat_client.head()"
   ]
  },
  {
   "cell_type": "code",
   "execution_count": null,
   "id": "57e93eb9",
   "metadata": {},
   "outputs": [],
   "source": [
    "total_friends = pd.concat([feat_client, feat_friends])\n",
    "agg_rule = {col: 'sum' for col in feat_client.columns[1:]}\n",
    "aggr_total_friends = total_friends.groupby('CLIENT_ID').agg(agg_rule)\n",
    "av_total_friends = aggr_total_friends.loc[:, :]\n",
    "av_total_friends.iloc[:, :-1] = (\n",
    "    aggr_total_friends.iloc[:, :-1].values / aggr_total_friends.iloc[:, -1].values[:, None]\n",
    ").round(2)"
   ]
  },
  {
   "cell_type": "code",
   "execution_count": null,
   "id": "aa2d2f1e",
   "metadata": {},
   "outputs": [],
   "source": [
    "av_total_friends.reset_index().iloc[:, :-1].to_csv('av_friends.csv', index=False)"
   ]
  }
 ],
 "metadata": {
  "kernelspec": {
   "display_name": "Python 3",
   "language": "python",
   "name": "python3"
  },
  "language_info": {
   "codemirror_mode": {
    "name": "ipython",
    "version": 3
   },
   "file_extension": ".py",
   "mimetype": "text/x-python",
   "name": "python",
   "nbconvert_exporter": "python",
   "pygments_lexer": "ipython3",
   "version": "3.8.8"
  }
 },
 "nbformat": 4,
 "nbformat_minor": 5
}
